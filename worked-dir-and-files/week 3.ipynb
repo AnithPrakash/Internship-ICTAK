{
 "cells": [
  {
   "cell_type": "markdown",
   "id": "c5b89aac",
   "metadata": {},
   "source": [
    "- Binary Search"
   ]
  },
  {
   "cell_type": "code",
   "execution_count": 4,
   "id": "36d16dd5",
   "metadata": {},
   "outputs": [],
   "source": [
    "def binary_search(arr, items):\n",
    "    low=0\n",
    "    high=len(arr)-1\n",
    "    \n",
    "    while low <= high:\n",
    "        mid=(high + low)//2\n",
    "        guess=arr[mid]\n",
    "        if guess == items:\n",
    "            return guess\n",
    "        elif guess < items:\n",
    "            low= mid + 1\n",
    "        else:\n",
    "            high= mid - 1\n",
    "    return None"
   ]
  },
  {
   "cell_type": "code",
   "execution_count": 5,
   "id": "a3a55a37",
   "metadata": {},
   "outputs": [
    {
     "name": "stdout",
     "output_type": "stream",
     "text": [
      "9\n"
     ]
    }
   ],
   "source": [
    "my_list = [1, 3, 5, 7, 9]\n",
    "print(binary_search(my_list, 9))"
   ]
  },
  {
   "cell_type": "markdown",
   "id": "59fb9b74",
   "metadata": {},
   "source": [
    "- Selection Sort"
   ]
  },
  {
   "cell_type": "code",
   "execution_count": 13,
   "id": "b32db7a2",
   "metadata": {},
   "outputs": [],
   "source": [
    "def smallest_index(arr):\n",
    "    smallest=arr[0]\n",
    "    smallest_index=0\n",
    "    for i in range(0, len(arr)):\n",
    "        if arr[i] < smallest:\n",
    "            smallest=arr[i]\n",
    "            smallest_index=i\n",
    "    return smallest_index"
   ]
  },
  {
   "cell_type": "code",
   "execution_count": 12,
   "id": "d26eccaa",
   "metadata": {},
   "outputs": [
    {
     "name": "stdout",
     "output_type": "stream",
     "text": [
      "4\n"
     ]
    }
   ],
   "source": [
    "my_list = [8, 6, 5, 7, 9]\n",
    "print(smallest_index(my_list))"
   ]
  },
  {
   "cell_type": "code",
   "execution_count": 24,
   "id": "a57a3663",
   "metadata": {},
   "outputs": [],
   "source": [
    "def selection_sort(arr):\n",
    "    newarr=[]\n",
    "    copiedarr=list(arr)\n",
    "    for i in range(len(copiedarr)):\n",
    "        #smallest=smallest_index(copiedarr)\n",
    "        newarr.append(copiedarr.pop(smallest_index(copiedarr)))\n",
    "    return newarr"
   ]
  },
  {
   "cell_type": "code",
   "execution_count": 26,
   "id": "d1cb8ce5",
   "metadata": {},
   "outputs": [
    {
     "name": "stdout",
     "output_type": "stream",
     "text": [
      "[6, 7, 8, 9, 13]\n"
     ]
    }
   ],
   "source": [
    "my_list = [8, 6, 13, 7, 9]\n",
    "print(selection_sort(my_list))"
   ]
  },
  {
   "cell_type": "code",
   "execution_count": null,
   "id": "31afc6f8",
   "metadata": {},
   "outputs": [],
   "source": []
  }
 ],
 "metadata": {
  "kernelspec": {
   "display_name": "Project",
   "language": "python",
   "name": "python3"
  },
  "language_info": {
   "codemirror_mode": {
    "name": "ipython",
    "version": 3
   },
   "file_extension": ".py",
   "mimetype": "text/x-python",
   "name": "python",
   "nbconvert_exporter": "python",
   "pygments_lexer": "ipython3",
   "version": "3.12.11"
  }
 },
 "nbformat": 4,
 "nbformat_minor": 5
}
